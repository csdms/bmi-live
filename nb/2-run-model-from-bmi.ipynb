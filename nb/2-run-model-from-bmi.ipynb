{
 "cells": [
  {
   "cell_type": "markdown",
   "metadata": {},
   "source": [
    "<img src=\"img/CSDMS-logo.png\">"
   ]
  },
  {
   "cell_type": "markdown",
   "metadata": {},
   "source": [
    "# BMI Live!\n",
    "\n",
    "Let's use this notebook to test our BMI as we develop it."
   ]
  },
  {
   "cell_type": "markdown",
   "metadata": {},
   "source": [
    "## Setup"
   ]
  },
  {
   "cell_type": "markdown",
   "metadata": {},
   "source": [
    "Before we start, make sure you've installed the `bmipy` package:\n",
    "\n",
    "    $ conda install bmipy -c conda-forge"
   ]
  },
  {
   "cell_type": "markdown",
   "metadata": {},
   "source": [
    "Also install our `bmi-live` package in developer mode:\n",
    "\n",
    "    $ python setup.py develop"
   ]
  },
  {
   "cell_type": "markdown",
   "metadata": {},
   "source": [
    "Last, a pair of imports for later:"
   ]
  },
  {
   "cell_type": "code",
   "execution_count": 1,
   "metadata": {},
   "outputs": [],
   "source": [
    "import os\n",
    "import numpy as np"
   ]
  },
  {
   "cell_type": "markdown",
   "metadata": {},
   "source": [
    "## Test the BMI methods"
   ]
  },
  {
   "cell_type": "markdown",
   "metadata": {},
   "source": [
    "Start by importing the `BmiDiffusion` class from the **bmi-live** package:"
   ]
  },
  {
   "cell_type": "code",
   "execution_count": 2,
   "metadata": {},
   "outputs": [],
   "source": [
    "from bmi_live.bmi_diffusion import BmiDiffusion"
   ]
  },
  {
   "cell_type": "markdown",
   "metadata": {},
   "source": [
    "Create an instance of the model's BMI."
   ]
  },
  {
   "cell_type": "code",
   "execution_count": 3,
   "metadata": {},
   "outputs": [],
   "source": [
    "x = BmiDiffusion()"
   ]
  },
  {
   "cell_type": "markdown",
   "metadata": {},
   "source": [
    "What's the name of this component?"
   ]
  },
  {
   "cell_type": "code",
   "execution_count": 4,
   "metadata": {},
   "outputs": [
    {
     "name": "stdout",
     "output_type": "stream",
     "text": [
      "Diffusion model\n"
     ]
    }
   ],
   "source": [
    "print(x.get_component_name())"
   ]
  },
  {
   "cell_type": "markdown",
   "metadata": {},
   "source": [
    "Show the input and output variables for the component:"
   ]
  },
  {
   "cell_type": "code",
   "execution_count": 5,
   "metadata": {},
   "outputs": [
    {
     "name": "stdout",
     "output_type": "stream",
     "text": [
      "('plate_surface__temperature',)\n",
      "('plate_surface__temperature',)\n"
     ]
    }
   ],
   "source": [
    "print(x.get_input_var_names())\n",
    "print(x.get_output_var_names())"
   ]
  },
  {
   "cell_type": "markdown",
   "metadata": {},
   "source": [
    "Locate a sample configuration file included with the **bmi-live** package:"
   ]
  },
  {
   "cell_type": "code",
   "execution_count": 6,
   "metadata": {},
   "outputs": [],
   "source": [
    "from bmi_live import data_directory\n",
    "cfg_file = os.path.join(data_directory, 'diffusion.yaml')"
   ]
  },
  {
   "cell_type": "markdown",
   "metadata": {},
   "source": [
    "Use the sample configuration to initialize the Diffusion model through its BMI:"
   ]
  },
  {
   "cell_type": "code",
   "execution_count": 7,
   "metadata": {},
   "outputs": [],
   "source": [
    "x.initialize(cfg_file)"
   ]
  },
  {
   "cell_type": "markdown",
   "metadata": {},
   "source": [
    "Check the time information for the model."
   ]
  },
  {
   "cell_type": "code",
   "execution_count": 8,
   "metadata": {},
   "outputs": [
    {
     "name": "stdout",
     "output_type": "stream",
     "text": [
      "Start time: 0.0\n",
      "End time: 1.7976931348623157e+308\n",
      "Current time: 0.0\n",
      "Time step: 0.16666666666666666\n",
      "Time units: s\n"
     ]
    }
   ],
   "source": [
    "print('Start time:', x.get_start_time())\n",
    "print('End time:', x.get_end_time())\n",
    "print('Current time:', x.get_current_time())\n",
    "print('Time step:', x.get_time_step())\n",
    "print('Time units:', x.get_time_units())"
   ]
  },
  {
   "cell_type": "markdown",
   "metadata": {},
   "source": [
    "Next, get attributes of the grid on which the temperature variable is defined:"
   ]
  },
  {
   "cell_type": "code",
   "execution_count": 9,
   "metadata": {},
   "outputs": [
    {
     "name": "stdout",
     "output_type": "stream",
     "text": [
      "Grid id: 0\n",
      "Grid rank: 2\n",
      "Grid shape: [7 9]\n",
      "Grid spacing: [1. 1.]\n",
      "Grid type: uniform_rectilinear_grid\n"
     ]
    }
   ],
   "source": [
    "grid_id = x.get_var_grid('plate_surface__temperature')\n",
    "print('Grid id:', grid_id)\n",
    "grid_rank = x.get_grid_rank(grid_id)\n",
    "print('Grid rank:', grid_rank)\n",
    "grid_shape = np.ndarray(grid_rank, int)\n",
    "x.get_grid_shape(grid_id, grid_shape)\n",
    "print('Grid shape:', grid_shape)\n",
    "grid_spacing = np.ndarray(grid_rank, float)\n",
    "x.get_grid_spacing(grid_id, grid_spacing)\n",
    "print('Grid spacing:', grid_spacing)\n",
    "print('Grid type:', x.get_grid_type(grid_id))"
   ]
  },
  {
   "cell_type": "markdown",
   "metadata": {},
   "source": [
    "Get the model's initial temperature field through the BMI:"
   ]
  },
  {
   "cell_type": "code",
   "execution_count": 10,
   "metadata": {},
   "outputs": [
    {
     "name": "stdout",
     "output_type": "stream",
     "text": [
      "[[0. 0. 0. 0. 0. 0. 0. 0. 0.]\n",
      " [0. 0. 0. 0. 0. 0. 0. 0. 0.]\n",
      " [0. 0. 0. 0. 0. 0. 0. 0. 0.]\n",
      " [0. 0. 0. 0. 0. 0. 0. 0. 0.]\n",
      " [0. 0. 0. 0. 0. 0. 0. 0. 0.]\n",
      " [0. 0. 0. 0. 0. 0. 0. 0. 0.]\n",
      " [0. 0. 0. 0. 0. 0. 0. 0. 0.]]\n"
     ]
    }
   ],
   "source": [
    "temp = np.ndarray(grid_shape).flatten()  #flattened!\n",
    "x.get_value('plate_surface__temperature', temp)\n",
    "print(temp.reshape(grid_shape))  # dimensional"
   ]
  },
  {
   "cell_type": "markdown",
   "metadata": {},
   "source": [
    "Add an impulse to the initial temperature field: "
   ]
  },
  {
   "cell_type": "code",
   "execution_count": 11,
   "metadata": {},
   "outputs": [],
   "source": [
    "temp[20] = 100.0\n",
    "x.set_value('plate_surface__temperature', temp)"
   ]
  },
  {
   "cell_type": "markdown",
   "metadata": {},
   "source": [
    "Check that the temperature field has been updated:"
   ]
  },
  {
   "cell_type": "code",
   "execution_count": 12,
   "metadata": {},
   "outputs": [
    {
     "name": "stdout",
     "output_type": "stream",
     "text": [
      "[[  0.   0.   0.   0.   0.   0.   0.   0.   0.]\n",
      " [  0.   0.   0.   0.   0.   0.   0.   0.   0.]\n",
      " [  0.   0. 100.   0.   0.   0.   0.   0.   0.]\n",
      " [  0.   0.   0.   0.   0.   0.   0.   0.   0.]\n",
      " [  0.   0.   0.   0.   0.   0.   0.   0.   0.]\n",
      " [  0.   0.   0.   0.   0.   0.   0.   0.   0.]\n",
      " [  0.   0.   0.   0.   0.   0.   0.   0.   0.]]\n"
     ]
    }
   ],
   "source": [
    "x.get_value('plate_surface__temperature', temp)\n",
    "print(temp.reshape(grid_shape))"
   ]
  },
  {
   "cell_type": "markdown",
   "metadata": {},
   "source": [
    "Now advance the model by a single time step:"
   ]
  },
  {
   "cell_type": "code",
   "execution_count": 13,
   "metadata": {},
   "outputs": [],
   "source": [
    "x.update()"
   ]
  },
  {
   "cell_type": "markdown",
   "metadata": {},
   "source": [
    "View the new state of the temperature field:"
   ]
  },
  {
   "cell_type": "code",
   "execution_count": 14,
   "metadata": {},
   "outputs": [
    {
     "name": "stdout",
     "output_type": "stream",
     "text": [
      "[[ 0.     0.     0.     0.     0.     0.     0.     0.     0.   ]\n",
      " [ 0.     0.     3.125  0.     0.     0.     0.     0.     0.   ]\n",
      " [ 0.     3.125 87.5    3.125  0.     0.     0.     0.     0.   ]\n",
      " [ 0.     0.     3.125  0.     0.     0.     0.     0.     0.   ]\n",
      " [ 0.     0.     0.     0.     0.     0.     0.     0.     0.   ]\n",
      " [ 0.     0.     0.     0.     0.     0.     0.     0.     0.   ]\n",
      " [ 0.     0.     0.     0.     0.     0.     0.     0.     0.   ]]\n"
     ]
    }
   ],
   "source": [
    "x.get_value('plate_surface__temperature', temp)\n",
    "print(temp.reshape(grid_shape))"
   ]
  },
  {
   "cell_type": "markdown",
   "metadata": {},
   "source": [
    "There's diffusion!"
   ]
  },
  {
   "cell_type": "markdown",
   "metadata": {},
   "source": [
    "Advance another step:"
   ]
  },
  {
   "cell_type": "code",
   "execution_count": 15,
   "metadata": {},
   "outputs": [],
   "source": [
    "x.update()"
   ]
  },
  {
   "cell_type": "markdown",
   "metadata": {},
   "source": [
    "View the new state of the temperature field (with help from `np.set_printoptions`):"
   ]
  },
  {
   "cell_type": "code",
   "execution_count": 16,
   "metadata": {},
   "outputs": [
    {
     "name": "stdout",
     "output_type": "stream",
     "text": [
      "[[  0.00   0.00   0.00   0.00   0.00   0.00   0.00   0.00   0.00]\n",
      " [  0.00   0.20   5.47   0.20   0.00   0.00   0.00   0.00   0.00]\n",
      " [  0.00   5.47  76.95   5.47   0.10   0.00   0.00   0.00   0.00]\n",
      " [  0.00   0.20   5.47   0.20   0.00   0.00   0.00   0.00   0.00]\n",
      " [  0.00   0.00   0.10   0.00   0.00   0.00   0.00   0.00   0.00]\n",
      " [  0.00   0.00   0.00   0.00   0.00   0.00   0.00   0.00   0.00]\n",
      " [  0.00   0.00   0.00   0.00   0.00   0.00   0.00   0.00   0.00]]\n"
     ]
    }
   ],
   "source": [
    "x.get_value('plate_surface__temperature', temp)\n",
    "np.set_printoptions(formatter={'float': '{: 6.2f}'.format})\n",
    "print(temp.reshape(grid_shape))"
   ]
  },
  {
   "cell_type": "markdown",
   "metadata": {},
   "source": [
    "Advance the model to some distant time:"
   ]
  },
  {
   "cell_type": "code",
   "execution_count": 17,
   "metadata": {},
   "outputs": [],
   "source": [
    "distant_time = 5.0\n",
    "while x.get_current_time() < distant_time:\n",
    "    x.update()"
   ]
  },
  {
   "cell_type": "markdown",
   "metadata": {},
   "source": [
    "View the new state of the temperature field:"
   ]
  },
  {
   "cell_type": "code",
   "execution_count": 18,
   "metadata": {},
   "outputs": [
    {
     "name": "stdout",
     "output_type": "stream",
     "text": [
      "[[  0.00   0.00   0.00   0.00   0.00   0.00   0.00   0.00   0.00]\n",
      " [  0.00   3.67   5.90   4.17   1.76   0.51   0.11   0.02   0.00]\n",
      " [  0.00   5.90   9.46   6.71   2.86   0.84   0.18   0.03   0.00]\n",
      " [  0.00   4.17   6.71   4.72   1.98   0.57   0.12   0.02   0.00]\n",
      " [  0.00   1.76   2.85   1.98   0.81   0.23   0.05   0.01   0.00]\n",
      " [  0.00   0.49   0.81   0.55   0.22   0.06   0.01   0.00   0.00]\n",
      " [  0.00   0.00   0.00   0.00   0.00   0.00   0.00   0.00   0.00]]\n"
     ]
    }
   ],
   "source": [
    "x.get_value('plate_surface__temperature', temp)\n",
    "print(temp.reshape(grid_shape))"
   ]
  },
  {
   "cell_type": "markdown",
   "metadata": {},
   "source": [
    "Finalize the model:"
   ]
  },
  {
   "cell_type": "code",
   "execution_count": 19,
   "metadata": {},
   "outputs": [],
   "source": [
    "x.finalize()"
   ]
  }
 ],
 "metadata": {
  "kernelspec": {
   "display_name": "Python 3",
   "language": "python",
   "name": "python3"
  },
  "language_info": {
   "codemirror_mode": {
    "name": "ipython",
    "version": 3
   },
   "file_extension": ".py",
   "mimetype": "text/x-python",
   "name": "python",
   "nbconvert_exporter": "python",
   "pygments_lexer": "ipython3",
   "version": "3.7.3"
  }
 },
 "nbformat": 4,
 "nbformat_minor": 1
}
